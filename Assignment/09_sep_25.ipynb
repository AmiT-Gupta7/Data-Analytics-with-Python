{
 "cells": [
  {
   "cell_type": "code",
   "execution_count": 20,
   "id": "e6aae4ce",
   "metadata": {},
   "outputs": [
    {
     "name": "stdout",
     "output_type": "stream",
     "text": [
      "th s  s pyth n pr gr m\n"
     ]
    }
   ],
   "source": [
    "# question 6:\n",
    "str1 = input(\"Enter first string: \")\n",
    "str2 = input(\"Enter second string: \")\n",
    "for i in str1:\n",
    "    if i in str2:\n",
    "        str2 = str2.replace(i, \" \")\n",
    "print(str2)\n",
    "    \n"
   ]
  },
  {
   "cell_type": "code",
   "execution_count": 11,
   "id": "3377fe18",
   "metadata": {},
   "outputs": [
    {
     "name": "stdout",
     "output_type": "stream",
     "text": [
      "7 is a prime number\n"
     ]
    }
   ],
   "source": [
    "# question 3:\n",
    "n = int(input(\"Enter a positive integer :\"))\n",
    "if n > 1:\n",
    "    for i in range(2, n):\n",
    "        if (n % i) == 0:\n",
    "            print(n, \"is not a prime number\")\n",
    "            break\n",
    "    else:\n",
    "        print(n, \"is a prime number\") "
   ]
  },
  {
   "cell_type": "code",
   "execution_count": null,
   "id": "f3379518",
   "metadata": {},
   "outputs": [
    {
     "name": "stdout",
     "output_type": "stream",
     "text": [
      "0\n",
      "sum 4500\n"
     ]
    }
   ],
   "source": [
    "# question 2:\n",
    "a = int(input(\"Enter a 1st positive integer :\"))\n",
    "b = int(input(\"Enter a 2nd positive integer :\"))\n",
    "sum = 0\n",
    "for i in range(1000, 2001):\n",
    "    if (i % a == 0 and i % b == 0):\n",
    "        sum += i\n",
    "else:\n",
    "    print(0)\n",
    "print(\"sum :\",sum)"
   ]
  },
  {
   "cell_type": "code",
   "execution_count": 6,
   "id": "a76fe1e8",
   "metadata": {},
   "outputs": [
    {
     "name": "stdout",
     "output_type": "stream",
     "text": [
      "1\n",
      "5\n"
     ]
    }
   ],
   "source": [
    "# question 1:\n",
    "positive_integer = int(input(\"Enter a positive integer :\"))\n",
    "for i in range(1, positive_integer+1):\n",
    "    if positive_integer % i == 0:\n",
    "        print(i)"
   ]
  },
  {
   "cell_type": "code",
   "execution_count": null,
   "id": "69ebe1fb",
   "metadata": {},
   "outputs": [],
   "source": [
    "##____Programming Practice Questions - Set 5"
   ]
  }
 ],
 "metadata": {
  "kernelspec": {
   "display_name": "Python 3",
   "language": "python",
   "name": "python3"
  },
  "language_info": {
   "codemirror_mode": {
    "name": "ipython",
    "version": 3
   },
   "file_extension": ".py",
   "mimetype": "text/x-python",
   "name": "python",
   "nbconvert_exporter": "python",
   "pygments_lexer": "ipython3",
   "version": "3.12.6"
  }
 },
 "nbformat": 4,
 "nbformat_minor": 5
}
