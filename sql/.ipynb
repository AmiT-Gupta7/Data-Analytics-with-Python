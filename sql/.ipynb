{
 "cells": [
  {
   "cell_type": "code",
   "execution_count": 1,
   "id": "113d0fb7",
   "metadata": {},
   "outputs": [
    {
     "name": "stdout",
     "output_type": "stream",
     "text": [
      "Hello Amit\n"
     ]
    }
   ],
   "source": [
    "print(\"Hello Amit\")"
   ]
  },
  {
   "cell_type": "markdown",
   "id": "85d7e5ee",
   "metadata": {},
   "source": [
    "## SQL is a language"
   ]
  },
  {
   "cell_type": "code",
   "execution_count": null,
   "id": "ca41fba4",
   "metadata": {},
   "outputs": [],
   "source": [
    "import sqlite3\n",
    "\n",
    "# create database in memory  (temporary, disappears after program ends)\n",
    "conn = sqlite3.connect('newtry.db')\n",
    "\n",
    "# create a cursor (to run queries)\n",
    "cur = conn.cursor()"
   ]
  },
  {
   "cell_type": "code",
   "execution_count": 6,
   "id": "9528e20d",
   "metadata": {},
   "outputs": [
    {
     "data": {
      "text/plain": [
       "<sqlite3.Cursor at 0x1e4feaa2f40>"
      ]
     },
     "execution_count": 6,
     "metadata": {},
     "output_type": "execute_result"
    }
   ],
   "source": [
    "# create a table\n",
    "cur.execute('''CREATE TABLE students1(\n",
    "            id INTEGER PRIMARY KEY, \n",
    "            name TEXT, \n",
    "            age INTEGER,\n",
    "            city TEXT,\n",
    "            joining_date TEXT not null\n",
    "            )'''\n",
    "            )"
   ]
  },
  {
   "cell_type": "code",
   "execution_count": 8,
   "id": "8735a2e8",
   "metadata": {},
   "outputs": [],
   "source": [
    "cur.execute(\"INSERT INTO students1 (name, age, city,joining_date) VALUES ('Amit', 24, 'Delhi','2023-06-01'),\" \\\n",
    "\"('John', 22, 'New York','2023-06-02'),\" \\\n",
    "\"('Sara', 23, 'London','2023-06-03'),\" \\\n",
    "\"('Maria', 21, 'Sydney','2023-06-04')\")\n",
    "conn.commit()  "
   ]
  },
  {
   "cell_type": "code",
   "execution_count": 42,
   "id": "f5dcd905",
   "metadata": {},
   "outputs": [],
   "source": [
    "cur.execute(\"INSERT INTO students1 (name, age, city,joining_date) VALUES ('Adarsh', 21, 'gkp','2004-06-01')\")\n",
    "conn.commit()  "
   ]
  },
  {
   "cell_type": "code",
   "execution_count": 12,
   "id": "a47b0253",
   "metadata": {},
   "outputs": [
    {
     "data": {
      "text/plain": [
       "[(1, 'Amit', 24, 'Delhi', '2023-06-01'),\n",
       " (2, 'John', 22, 'New York', '2023-06-02'),\n",
       " (3, 'Sara', 23, 'London', '2023-06-03'),\n",
       " (4, 'Maria', 21, 'Sydney', '2023-06-04'),\n",
       " (5, 'Vishal', 26, 'gkp', '1999-06-01')]"
      ]
     },
     "execution_count": 12,
     "metadata": {},
     "output_type": "execute_result"
    }
   ],
   "source": [
    "cur.execute(\"select * from students1\")\n",
    "rows = cur.fetchall()\n",
    "rows"
   ]
  },
  {
   "cell_type": "code",
   "execution_count": null,
   "id": "911e1b48",
   "metadata": {},
   "outputs": [
    {
     "data": {
      "text/plain": [
       "[(24,), (22,), (23,), (21,), (26,)]"
      ]
     },
     "execution_count": 14,
     "metadata": {},
     "output_type": "execute_result"
    }
   ],
   "source": [
    "cur.execute(\"SELECT age FROM students1\")\n",
    "# cur.fetchall() # list of ages\n",
    "for row in cur.fetchall():\n",
    "    print(row)"
   ]
  },
  {
   "cell_type": "code",
   "execution_count": null,
   "id": "94fcf456",
   "metadata": {},
   "outputs": [
    {
     "data": {
      "text/plain": [
       "[(5, 'Vishal', 26, 'gkp', '1999-06-01')]"
      ]
     },
     "execution_count": 15,
     "metadata": {},
     "output_type": "execute_result"
    }
   ],
   "source": [
    "cur.execute(\"SELECT * FROM students1 where city = 'gkp'\") # get all details of students from gkp\n",
    "cur.fetchall() "
   ]
  },
  {
   "cell_type": "code",
   "execution_count": 23,
   "id": "f99f64fc",
   "metadata": {},
   "outputs": [
    {
     "name": "stdout",
     "output_type": "stream",
     "text": [
      "('2023-06-04',)\n",
      "('2023-06-02',)\n",
      "('2023-06-03',)\n",
      "('2023-06-01',)\n"
     ]
    }
   ],
   "source": [
    "cur.execute(\"SELECT joining_date FROM students1 where joining_date > '2022-01-01' order by age\") # get joining date of students from gkp\n",
    "for row in cur.fetchall():\n",
    "    print(row)"
   ]
  },
  {
   "cell_type": "markdown",
   "id": "3a0ab0ec",
   "metadata": {},
   "source": [
    "### Question : "
   ]
  },
  {
   "cell_type": "code",
   "execution_count": 28,
   "id": "7889743b",
   "metadata": {},
   "outputs": [
    {
     "name": "stdout",
     "output_type": "stream",
     "text": [
      "(1, 'Amit', 24, 'Delhi', '2023-06-01')\n",
      "(5, 'Vishal', 26, 'gkp', '1999-06-01')\n"
     ]
    }
   ],
   "source": [
    "cur.execute(\"SELECT * FROM students1 where city in ('gkp','Delhi');\") # get all details of students from gkp\n",
    "for row in cur.fetchall():\n",
    "    print(row)"
   ]
  },
  {
   "cell_type": "markdown",
   "id": "d6b7969b",
   "metadata": {},
   "source": [
    "## Part 2: Aggregations & Functions..."
   ]
  },
  {
   "cell_type": "code",
   "execution_count": 29,
   "id": "98f25995",
   "metadata": {},
   "outputs": [
    {
     "data": {
      "text/plain": [
       "<sqlite3.Cursor at 0x1e4feaa2f40>"
      ]
     },
     "execution_count": 29,
     "metadata": {},
     "output_type": "execute_result"
    }
   ],
   "source": [
    "# 1) create payments table\n",
    "cur.execute(\"\"\"\n",
    "CREATE TABLE IF NOT EXISTS payments (\n",
    "    id INTEGER PRIMARY KEY,\n",
    "    student_id INTEGER,\n",
    "    amount REAL,\n",
    "    pay_date DATE\n",
    ");\n",
    "\"\"\")"
   ]
  },
  {
   "cell_type": "code",
   "execution_count": 30,
   "id": "9f787d9b",
   "metadata": {},
   "outputs": [],
   "source": [
    "# 2) insert sample data\n",
    "cur.executemany(\"\"\"\n",
    "INSERT INTO payments (id, student_id, amount, pay_date) VALUES (?, ?, ?, ?)\n",
    "\"\"\", [\n",
    "    (1, 1, 1200.0, '2025-01-15'),\n",
    "    (2, 2, 1500.0, '2025-02-10'),\n",
    "    (3, 1, 800.0,  '2025-02-20'),\n",
    "    (4, 3, 1500.0, '2025-03-20'),\n",
    "    (5, 4, 1000.0, '2025-04-22'),\n",
    "    (6, 2, 500.0,  '2025-04-25'),\n",
    "])\n",
    "conn.commit()"
   ]
  },
  {
   "cell_type": "code",
   "execution_count": 35,
   "id": "c7d8e232",
   "metadata": {},
   "outputs": [
    {
     "name": "stdout",
     "output_type": "stream",
     "text": [
      "('gkp', 1)\n",
      "('Delhi', 1)\n",
      "('London', 1)\n",
      "('New York', 1)\n",
      "('Sydney', 1)\n"
     ]
    }
   ],
   "source": [
    "cur.execute(\"SELECT city ,count(*) AS total_students FROM students1 group by city order by age DESC ;\")\n",
    "for row in cur.fetchall():\n",
    "    print(row)"
   ]
  },
  {
   "cell_type": "code",
   "execution_count": 41,
   "id": "6d43d609",
   "metadata": {},
   "outputs": [
    {
     "name": "stdout",
     "output_type": "stream",
     "text": [
      "(2, 2000.0)\n",
      "(1, 2000.0)\n",
      "(3, 1500.0)\n",
      "(4, 1000.0)\n"
     ]
    }
   ],
   "source": [
    "cur.execute(\"\"\"\n",
    "SELECT student_id, SUM(amount) AS total_paid\n",
    "FROM payments\n",
    "GROUP BY student_id\n",
    "ORDER BY total_paid DESC;\n",
    "\"\"\")\n",
    "for row in cur.fetchall():\n",
    "    print(row)"
   ]
  },
  {
   "cell_type": "code",
   "execution_count": 38,
   "id": "6979c087",
   "metadata": {},
   "outputs": [
    {
     "name": "stdout",
     "output_type": "stream",
     "text": [
      "(1, 1, 1200.0, '2025-01-15')\n",
      "(2, 2, 1500.0, '2025-02-10')\n",
      "(3, 1, 800.0, '2025-02-20')\n",
      "(4, 3, 1500.0, '2025-03-20')\n",
      "(5, 4, 1000.0, '2025-04-22')\n",
      "(6, 2, 500.0, '2025-04-25')\n"
     ]
    }
   ],
   "source": [
    "cur.execute(\"SELECT * FROM payments\")\n",
    "for row in cur.fetchall():\n",
    "    print(row)"
   ]
  },
  {
   "cell_type": "code",
   "execution_count": 39,
   "id": "642796e0",
   "metadata": {},
   "outputs": [
    {
     "name": "stdout",
     "output_type": "stream",
     "text": [
      "[(1083.3333333333333,)]\n"
     ]
    }
   ],
   "source": [
    "cur.execute(\"SELECT AVG(amount) FROM payments;\")\n",
    "print(cur.fetchall())"
   ]
  },
  {
   "cell_type": "markdown",
   "id": "52371eb0",
   "metadata": {},
   "source": [
    "## Having and Groupby"
   ]
  },
  {
   "cell_type": "code",
   "execution_count": 50,
   "id": "7ae628cd",
   "metadata": {},
   "outputs": [
    {
     "name": "stdout",
     "output_type": "stream",
     "text": [
      "[('New York', 2)]\n"
     ]
    }
   ],
   "source": [
    "cur.execute(\"\"\"\n",
    "SELECT city, COUNT(*) AS total_students1\n",
    "FROM students\n",
    "GROUP BY city\n",
    "HAVING COUNT(*) >= 2;\n",
    "\"\"\")\n",
    "print(cur.fetchall())"
   ]
  }
 ],
 "metadata": {
  "kernelspec": {
   "display_name": "Python 3",
   "language": "python",
   "name": "python3"
  },
  "language_info": {
   "codemirror_mode": {
    "name": "ipython",
    "version": 3
   },
   "file_extension": ".py",
   "mimetype": "text/x-python",
   "name": "python",
   "nbconvert_exporter": "python",
   "pygments_lexer": "ipython3",
   "version": "3.12.10"
  }
 },
 "nbformat": 4,
 "nbformat_minor": 5
}
